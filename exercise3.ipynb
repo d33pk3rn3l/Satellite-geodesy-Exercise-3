{
 "cells": [
  {
   "cell_type": "markdown",
   "metadata": {},
   "source": [
    "# Gravitationspotential\n"
   ]
  },
  {
   "cell_type": "markdown",
   "metadata": {},
   "source": [
    "## Plot des Gravitationspotentials"
   ]
  },
  {
   "cell_type": "code",
   "execution_count": 104,
   "metadata": {},
   "outputs": [],
   "source": [
    "import numpy as np\n",
    "import matplotlib.pyplot as plt\n",
    "import pandas"
   ]
  },
  {
   "cell_type": "code",
   "execution_count": 105,
   "metadata": {},
   "outputs": [],
   "source": [
    "G = 0.0000000000667428 # in Nm^2 * kg^-2\n",
    "R_e = 6371 * 10**3 # in m\n",
    "\n",
    "prel_earth_ref_mod = pandas.read_csv(\"Data/preliminary_earth_reference_model.csv\")\n",
    "prel_earth_ref_mod *= 10**3 # all values in m or kg/m^3"
   ]
  },
  {
   "cell_type": "code",
   "execution_count": 106,
   "metadata": {},
   "outputs": [],
   "source": [
    "def potential_integration_inner(R, B, C, D, E):\n",
    "    return B * R**2 / 2 + C * R**3 / (3 * R_e) + D * R**4 / (4 * R_e**2) + E * R**5 / (5 * R_e**3)\n",
    "\n",
    "def potential_integration_outer(R, B, C, D, E):\n",
    "    return B * R**3 / 3 + C * R**4 / (4 * R_e) + D * R**5 / (5 * R_e**2) + E * R**6 / (6 * R_e**3)"
   ]
  },
  {
   "cell_type": "code",
   "execution_count": 107,
   "metadata": {},
   "outputs": [
    {
     "data": {
      "text/plain": [
       "8.387150427380733e-10"
      ]
     },
     "execution_count": 107,
     "metadata": {},
     "output_type": "execute_result"
    }
   ],
   "source": [
    "def g_potential_inner(R_lower, R_upper, B, C, D, E):\n",
    "    lower = potential_integration_inner(R_lower, B, C, D, E)\n",
    "    upper = potential_integration_inner(R_upper, B, C, D, E)\n",
    "\n",
    "    return 4 * np.pi * G * (upper - lower)\n",
    "\n",
    "def g_potential_outer(R_lower, R_upper, d, B, C, D, E):\n",
    "    lower = potential_integration_outer(R_lower, B, C, D, E)\n",
    "    upper = potential_integration_outer(R_upper, B, C, D, E)\n",
    "\n",
    "    return 4 * np.pi * G * (upper - lower) / d\n",
    "\n",
    "g_potential_outer(1, 2,7,3,4,5,6)"
   ]
  },
  {
   "cell_type": "code",
   "execution_count": 109,
   "metadata": {},
   "outputs": [],
   "source": [
    "potential_per_shell = []\n",
    "for index in prel_earth_ref_mod.index:\n",
    "    R_lower = prel_earth_ref_mod.rmin[index]\n",
    "    R_upper = prel_earth_ref_mod.rmax[index]\n",
    "\n",
    "    B = prel_earth_ref_mod.B[index] \n",
    "    C = prel_earth_ref_mod.C[index]\n",
    "    D = prel_earth_ref_mod.D[index]\n",
    "    E = prel_earth_ref_mod.E[index]\n",
    "    \n",
    "    potential_per_shell.append(g_potential_inner(R_lower, R_upper, B, C, D, E))\n",
    "\n",
    "prel_earth_ref_mod[\"potential_per_shell_in_middle\"] = potential_per_shell\n",
    "del potential_per_shell\n",
    "\n",
    "#print(sum(prel_earth_ref_mod[\"potential_per_shell\"]))"
   ]
  },
  {
   "cell_type": "code",
   "execution_count": 116,
   "metadata": {},
   "outputs": [],
   "source": [
    "d = range(0, 4000000 * 10^3, 100000)\n",
    "potential = []\n",
    "\n",
    "for distance in d:\n",
    "    pot_per_distance = 0\n",
    "\n",
    "    for index in prel_earth_ref_mod.index:\n",
    "        R_lower = prel_earth_ref_mod.rmin[index]\n",
    "        R_upper = prel_earth_ref_mod.rmax[index]\n",
    "\n",
    "        B = prel_earth_ref_mod.B[index]\n",
    "        C = prel_earth_ref_mod.C[index]\n",
    "        D = prel_earth_ref_mod.D[index]\n",
    "        E = prel_earth_ref_mod.E[index]\n",
    "\n",
    "        if distance > R_upper:\n",
    "            pot_per_distance += g_potential_outer(R_lower, R_upper, distance, B, C, D, E,)\n",
    "        elif distance <= R_lower:\n",
    "            pot_per_distance += g_potential_inner(R_lower, R_upper, B, C, D, E)\n",
    "        else: pot_per_distance += g_potential_inner(distance, R_upper, B, C, D, E) + g_potential_outer(R_lower, distance, distance, B, C, D, E,)\n",
    "    \n",
    "    potential.append(pot_per_distance)"
   ]
  },
  {
   "cell_type": "code",
   "execution_count": 117,
   "metadata": {},
   "outputs": [
    {
     "data": {
      "text/plain": [
       "[<matplotlib.lines.Line2D at 0x7f8c689ddcd0>]"
      ]
     },
     "execution_count": 117,
     "metadata": {},
     "output_type": "execute_result"
    },
    {
     "data": {
      "image/png": "[encoded data removed]",
      "text/plain": [
       "<Figure size 432x288 with 1 Axes>"
      ]
     },
     "metadata": {
      "needs_background": "light"
     },
     "output_type": "display_data"
    }
   ],
   "source": [
    "plt.plot(d, potential)"
   ]
  },
  {
   "cell_type": "code",
   "execution_count": 132,
   "metadata": {},
   "outputs": [],
   "source": [
    "d = range(0, 4000000 * 10^3, 10000)\n",
    "acc = []\n",
    "\n",
    "for distance in d:\n",
    "    pot_per_distance = 0\n",
    "\n",
    "    for index in prel_earth_ref_mod.index:\n",
    "        R_lower = prel_earth_ref_mod.rmin[index]\n",
    "        R_upper = prel_earth_ref_mod.rmax[index]\n",
    "\n",
    "        B = prel_earth_ref_mod.B[index]\n",
    "        C = prel_earth_ref_mod.C[index]\n",
    "        D = prel_earth_ref_mod.D[index]\n",
    "        E = prel_earth_ref_mod.E[index]\n",
    "\n",
    "        if distance > R_upper:\n",
    "            pot_per_distance += g_potential_outer(R_lower, R_upper, distance**2, B, C, D, E,)\n",
    "        elif distance <= R_lower:\n",
    "            pot_per_distance += 0\n",
    "        else: pot_per_distance += g_potential_outer(R_lower, distance, distance**2, B, C, D, E,)\n",
    "    \n",
    "    acc.append(pot_per_distance)"
   ]
  },
  {
   "cell_type": "code",
   "execution_count": 133,
   "metadata": {},
   "outputs": [
    {
     "data": {
      "text/plain": [
       "Text(0.5, 0.5, '10.69')"
      ]
     },
     "execution_count": 133,
     "metadata": {},
     "output_type": "execute_result"
    },
    {
     "data": {
      "image/png": "[encoded data removed]",
      "text/plain": [
       "<Figure size 432x288 with 1 Axes>"
      ]
     },
     "metadata": {
      "needs_background": "light"
     },
     "output_type": "display_data"
    }
   ],
   "source": [
    "plt.plot(d, acc)\n",
    "plt.annotate(round(max(acc), 2),(0.5,0.5))"
   ]
  },
  {
   "cell_type": "code",
   "execution_count": null,
   "metadata": {},
   "outputs": [],
   "source": []
  }
 ],
 "metadata": {
  "interpreter": {
   "hash": "aee8b7b246df8f9039afb4144a1f6fd8d2ca17a180786b69acc140d282b71a49"
  },
  "kernelspec": {
   "display_name": "Python 3.10.0 64-bit",
   "language": "python",
   "name": "python3"
  },
  "language_info": {
   "codemirror_mode": {
    "name": "ipython",
    "version": 3
   },
   "file_extension": ".py",
   "mimetype": "text/x-python",
   "name": "python",
   "nbconvert_exporter": "python",
   "pygments_lexer": "ipython3",
   "version": "3.8.8"
  },
  "orig_nbformat": 4
 },
 "nbformat": 4,
 "nbformat_minor": 2
}
